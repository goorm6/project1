{
 "cells": [
  {
   "cell_type": "markdown",
   "metadata": {},
   "source": [
    "# Import requirements"
   ]
  },
  {
   "cell_type": "code",
   "execution_count": 1,
   "metadata": {
    "execution": {
     "iopub.execute_input": "2021-10-24T21:28:01.108943Z",
     "iopub.status.busy": "2021-10-24T21:28:01.108662Z",
     "iopub.status.idle": "2021-10-24T21:28:07.275681Z",
     "shell.execute_reply": "2021-10-24T21:28:07.274712Z",
     "shell.execute_reply.started": "2021-10-24T21:28:01.108865Z"
    }
   },
   "outputs": [],
   "source": [
    "import os\n",
    "import pdb\n",
    "import wandb\n",
    "import argparse\n",
    "from dataclasses import dataclass, field\n",
    "from typing import Optional\n",
    "from collections import defaultdict\n",
    "\n",
    "import torch\n",
    "from torch.nn.utils.rnn import pad_sequence\n",
    "\n",
    "import numpy as np\n",
    "from tqdm import tqdm, trange\n",
    "\n",
    "from transformers import (\n",
    "    BertForSequenceClassification,\n",
    "    BertTokenizer,\n",
    "    AutoConfig,\n",
    "    AdamW\n",
    ")"
   ]
  },
  {
   "cell_type": "markdown",
   "metadata": {},
   "source": [
    "# 1. Preprocess"
   ]
  },
  {
   "cell_type": "code",
   "execution_count": 2,
   "metadata": {
    "execution": {
     "iopub.execute_input": "2021-10-24T21:05:14.091686Z",
     "iopub.status.busy": "2021-10-24T21:05:14.091032Z",
     "iopub.status.idle": "2021-10-24T21:05:14.098044Z",
     "shell.execute_reply": "2021-10-24T21:05:14.097299Z",
     "shell.execute_reply.started": "2021-10-24T21:05:14.091649Z"
    }
   },
   "outputs": [],
   "source": [
    "def make_id_file(task, tokenizer):\n",
    "    def make_data_strings(file_name):\n",
    "        data_strings = []\n",
    "        with open(os.path.join('./project1_data', file_name), 'r', encoding='utf-8') as f:\n",
    "            id_file_data = [tokenizer.encode(line.lower()) for line in f.readlines()]\n",
    "        for item in id_file_data:\n",
    "            data_strings.append(' '.join([str(k) for k in item]))\n",
    "        return data_strings\n",
    "    \n",
    "    print('it will take some times...')\n",
    "    train_pos = make_data_strings('sentiment.train.1')\n",
    "    train_neg = make_data_strings('sentiment.train.0')\n",
    "    dev_pos = make_data_strings('sentiment.dev.1')\n",
    "    dev_neg = make_data_strings('sentiment.dev.0')\n",
    "\n",
    "    print('make id file finished!')\n",
    "    return train_pos, train_neg, dev_pos, dev_neg"
   ]
  },
  {
   "cell_type": "code",
   "execution_count": 3,
   "metadata": {
    "execution": {
     "iopub.execute_input": "2021-10-24T21:05:15.841446Z",
     "iopub.status.busy": "2021-10-24T21:05:15.840891Z",
     "iopub.status.idle": "2021-10-24T21:05:20.5036Z",
     "shell.execute_reply": "2021-10-24T21:05:20.502899Z",
     "shell.execute_reply.started": "2021-10-24T21:05:15.841408Z"
    }
   },
   "outputs": [],
   "source": [
    "tokenizer = BertTokenizer.from_pretrained('bert-base-uncased')"
   ]
  },
  {
   "cell_type": "code",
   "execution_count": 4,
   "metadata": {
    "execution": {
     "iopub.execute_input": "2021-10-24T21:05:20.505189Z",
     "iopub.status.busy": "2021-10-24T21:05:20.504949Z",
     "iopub.status.idle": "2021-10-24T21:07:57.034951Z",
     "shell.execute_reply": "2021-10-24T21:07:57.033206Z",
     "shell.execute_reply.started": "2021-10-24T21:05:20.505155Z"
    }
   },
   "outputs": [
    {
     "name": "stdout",
     "output_type": "stream",
     "text": [
      "it will take some times...\n",
      "make id file finished!\n"
     ]
    }
   ],
   "source": [
    "train_pos, train_neg, dev_pos, dev_neg = make_id_file('yelp', tokenizer)"
   ]
  },
  {
   "cell_type": "code",
   "execution_count": 5,
   "metadata": {
    "execution": {
     "iopub.execute_input": "2021-10-24T21:08:00.592861Z",
     "iopub.status.busy": "2021-10-24T21:08:00.592452Z",
     "iopub.status.idle": "2021-10-24T21:08:00.601702Z",
     "shell.execute_reply": "2021-10-24T21:08:00.600822Z",
     "shell.execute_reply.started": "2021-10-24T21:08:00.592824Z"
    }
   },
   "outputs": [
    {
     "data": {
      "text/plain": [
       "['101 6581 2833 1012 102',\n",
       " '101 21688 8013 2326 1012 102',\n",
       " '101 2027 2036 2031 3679 19247 1998 3256 6949 2029 2003 2428 2204 1012 102',\n",
       " '101 2009 1005 1055 1037 2204 15174 2098 7570 22974 2063 1012 102',\n",
       " '101 1996 3095 2003 5379 1012 102',\n",
       " '101 2204 3347 2833 1012 102',\n",
       " '101 2204 2326 1012 102',\n",
       " '101 11350 1997 2154 2003 25628 1998 7167 1997 19247 1012 102',\n",
       " '101 2307 2173 2005 6265 2030 3347 27962 1998 5404 1012 102',\n",
       " '101 1996 2047 2846 3504 6429 1012 102']"
      ]
     },
     "execution_count": 5,
     "metadata": {},
     "output_type": "execute_result"
    }
   ],
   "source": [
    "train_pos[:10]"
   ]
  },
  {
   "cell_type": "code",
   "execution_count": 6,
   "metadata": {
    "execution": {
     "iopub.execute_input": "2021-10-24T21:08:01.251292Z",
     "iopub.status.busy": "2021-10-24T21:08:01.250691Z",
     "iopub.status.idle": "2021-10-24T21:08:01.260285Z",
     "shell.execute_reply": "2021-10-24T21:08:01.259365Z",
     "shell.execute_reply.started": "2021-10-24T21:08:01.251247Z"
    }
   },
   "outputs": [],
   "source": [
    "class SentimentDataset(object):\n",
    "    def __init__(self, tokenizer, pos, neg):\n",
    "        self.tokenizer = tokenizer\n",
    "        self.data = []\n",
    "        self.label = []\n",
    "\n",
    "        for pos_sent in pos:\n",
    "            self.data += [self._cast_to_int(pos_sent.strip().split())]\n",
    "            self.label += [[1]]\n",
    "        for neg_sent in neg:\n",
    "            self.data += [self._cast_to_int(neg_sent.strip().split())]\n",
    "            self.label += [[0]]\n",
    "\n",
    "    def _cast_to_int(self, sample):\n",
    "        return [int(word_id) for word_id in sample]\n",
    "\n",
    "    def __len__(self):\n",
    "        return len(self.data)\n",
    "\n",
    "    def __getitem__(self, index):\n",
    "        sample = self.data[index]\n",
    "        return np.array(sample), np.array(self.label[index])"
   ]
  },
  {
   "cell_type": "code",
   "execution_count": 7,
   "metadata": {
    "execution": {
     "iopub.execute_input": "2021-10-24T21:08:01.994746Z",
     "iopub.status.busy": "2021-10-24T21:08:01.99441Z",
     "iopub.status.idle": "2021-10-24T21:08:04.915342Z",
     "shell.execute_reply": "2021-10-24T21:08:04.914594Z",
     "shell.execute_reply.started": "2021-10-24T21:08:01.994715Z"
    }
   },
   "outputs": [],
   "source": [
    "train_dataset = SentimentDataset(tokenizer, train_pos, train_neg)\n",
    "dev_dataset = SentimentDataset(tokenizer, dev_pos, dev_neg)"
   ]
  },
  {
   "cell_type": "code",
   "execution_count": 8,
   "metadata": {
    "execution": {
     "iopub.execute_input": "2021-10-24T21:08:06.066445Z",
     "iopub.status.busy": "2021-10-24T21:08:06.065969Z",
     "iopub.status.idle": "2021-10-24T21:08:06.07667Z",
     "shell.execute_reply": "2021-10-24T21:08:06.075849Z",
     "shell.execute_reply.started": "2021-10-24T21:08:06.066411Z"
    }
   },
   "outputs": [
    {
     "name": "stdout",
     "output_type": "stream",
     "text": [
      "(array([ 101, 6581, 2833, 1012,  102]), array([1]))\n",
      "(array([  101, 21688,  8013,  2326,  1012,   102]), array([1]))\n",
      "(array([  101,  2027,  2036,  2031,  3679, 19247,  1998,  3256,  6949,\n",
      "        2029,  2003,  2428,  2204,  1012,   102]), array([1]))\n",
      "(array([  101,  2009,  1005,  1055,  1037,  2204, 15174,  2098,  7570,\n",
      "       22974,  2063,  1012,   102]), array([1]))\n",
      "(array([ 101, 1996, 3095, 2003, 5379, 1012,  102]), array([1]))\n",
      "(array([ 101, 2204, 3347, 2833, 1012,  102]), array([1]))\n",
      "(array([ 101, 2204, 2326, 1012,  102]), array([1]))\n",
      "(array([  101, 11350,  1997,  2154,  2003, 25628,  1998,  7167,  1997,\n",
      "       19247,  1012,   102]), array([1]))\n",
      "(array([  101,  2307,  2173,  2005,  6265,  2030,  3347, 27962,  1998,\n",
      "        5404,  1012,   102]), array([1]))\n",
      "(array([ 101, 1996, 2047, 2846, 3504, 6429, 1012,  102]), array([1]))\n",
      "(array([ 101, 2023, 2173, 2001, 2200, 2204, 1012,  102]), array([1]))\n"
     ]
    }
   ],
   "source": [
    "for i, item in enumerate(train_dataset):\n",
    "    print(item)\n",
    "    if i == 10:\n",
    "        break"
   ]
  },
  {
   "cell_type": "code",
   "execution_count": 9,
   "metadata": {
    "execution": {
     "iopub.execute_input": "2021-10-24T21:08:06.674726Z",
     "iopub.status.busy": "2021-10-24T21:08:06.674262Z",
     "iopub.status.idle": "2021-10-24T21:08:06.682396Z",
     "shell.execute_reply": "2021-10-24T21:08:06.68173Z",
     "shell.execute_reply.started": "2021-10-24T21:08:06.674692Z"
    }
   },
   "outputs": [],
   "source": [
    "def collate_fn_style(samples):\n",
    "    input_ids, labels = zip(*samples)\n",
    "    max_len = max(len(input_id) for input_id in input_ids)\n",
    "    sorted_indices = np.argsort([len(input_id) for input_id in input_ids])[::-1]\n",
    "\n",
    "    input_ids = pad_sequence([torch.tensor(input_ids[index]) for index in sorted_indices],\n",
    "                             batch_first=True)\n",
    "    attention_mask = torch.tensor(\n",
    "        [[1] * len(input_ids[index]) + [0] * (max_len - len(input_ids[index])) for index in\n",
    "         sorted_indices])\n",
    "    token_type_ids = torch.tensor([[0] * len(input_ids[index]) for index in sorted_indices])\n",
    "    position_ids = torch.tensor([list(range(len(input_ids[index]))) for index in sorted_indices])\n",
    "    labels = torch.tensor(np.stack(labels, axis=0)[sorted_indices])\n",
    "\n",
    "    return input_ids, attention_mask, token_type_ids, position_ids, labels"
   ]
  },
  {
   "cell_type": "code",
   "execution_count": 10,
   "metadata": {
    "execution": {
     "iopub.execute_input": "2021-10-24T21:08:07.207743Z",
     "iopub.status.busy": "2021-10-24T21:08:07.20726Z",
     "iopub.status.idle": "2021-10-24T21:08:07.214411Z",
     "shell.execute_reply": "2021-10-24T21:08:07.213596Z",
     "shell.execute_reply.started": "2021-10-24T21:08:07.207708Z"
    }
   },
   "outputs": [],
   "source": [
    "train_batch_size=64\n",
    "eval_batch_size=64\n",
    "\n",
    "train_loader = torch.utils.data.DataLoader(train_dataset,\n",
    "                                           batch_size=train_batch_size,\n",
    "                                           shuffle=True, collate_fn=collate_fn_style,\n",
    "                                           pin_memory=True, num_workers=4)\n",
    "dev_loader = torch.utils.data.DataLoader(dev_dataset, batch_size=eval_batch_size,\n",
    "                                         shuffle=False, collate_fn=collate_fn_style,\n",
    "                                         num_workers=2)"
   ]
  },
  {
   "cell_type": "code",
   "execution_count": 11,
   "metadata": {
    "_kg_hide-input": true,
    "_kg_hide-output": true
   },
   "outputs": [
    {
     "name": "stderr",
     "output_type": "stream",
     "text": [
      "Some weights of the model checkpoint at bert-base-uncased were not used when initializing BertForSequenceClassification: ['cls.predictions.decoder.weight', 'cls.predictions.transform.dense.bias', 'cls.predictions.transform.dense.weight', 'cls.predictions.transform.LayerNorm.bias', 'cls.seq_relationship.weight', 'cls.predictions.bias', 'cls.predictions.transform.LayerNorm.weight', 'cls.seq_relationship.bias']\n",
      "- This IS expected if you are initializing BertForSequenceClassification from the checkpoint of a model trained on another task or with another architecture (e.g. initializing a BertForSequenceClassification model from a BertForPreTraining model).\n",
      "- This IS NOT expected if you are initializing BertForSequenceClassification from the checkpoint of a model that you expect to be exactly identical (initializing a BertForSequenceClassification model from a BertForSequenceClassification model).\n",
      "Some weights of BertForSequenceClassification were not initialized from the model checkpoint at bert-base-uncased and are newly initialized: ['classifier.bias', 'classifier.weight']\n",
      "You should probably TRAIN this model on a down-stream task to be able to use it for predictions and inference.\n"
     ]
    },
    {
     "data": {
      "text/plain": [
       "BertForSequenceClassification(\n",
       "  (bert): BertModel(\n",
       "    (embeddings): BertEmbeddings(\n",
       "      (word_embeddings): Embedding(30522, 768, padding_idx=0)\n",
       "      (position_embeddings): Embedding(512, 768)\n",
       "      (token_type_embeddings): Embedding(2, 768)\n",
       "      (LayerNorm): LayerNorm((768,), eps=1e-12, elementwise_affine=True)\n",
       "      (dropout): Dropout(p=0.1, inplace=False)\n",
       "    )\n",
       "    (encoder): BertEncoder(\n",
       "      (layer): ModuleList(\n",
       "        (0): BertLayer(\n",
       "          (attention): BertAttention(\n",
       "            (self): BertSelfAttention(\n",
       "              (query): Linear(in_features=768, out_features=768, bias=True)\n",
       "              (key): Linear(in_features=768, out_features=768, bias=True)\n",
       "              (value): Linear(in_features=768, out_features=768, bias=True)\n",
       "              (dropout): Dropout(p=0.1, inplace=False)\n",
       "            )\n",
       "            (output): BertSelfOutput(\n",
       "              (dense): Linear(in_features=768, out_features=768, bias=True)\n",
       "              (LayerNorm): LayerNorm((768,), eps=1e-12, elementwise_affine=True)\n",
       "              (dropout): Dropout(p=0.1, inplace=False)\n",
       "            )\n",
       "          )\n",
       "          (intermediate): BertIntermediate(\n",
       "            (dense): Linear(in_features=768, out_features=3072, bias=True)\n",
       "          )\n",
       "          (output): BertOutput(\n",
       "            (dense): Linear(in_features=3072, out_features=768, bias=True)\n",
       "            (LayerNorm): LayerNorm((768,), eps=1e-12, elementwise_affine=True)\n",
       "            (dropout): Dropout(p=0.1, inplace=False)\n",
       "          )\n",
       "        )\n",
       "        (1): BertLayer(\n",
       "          (attention): BertAttention(\n",
       "            (self): BertSelfAttention(\n",
       "              (query): Linear(in_features=768, out_features=768, bias=True)\n",
       "              (key): Linear(in_features=768, out_features=768, bias=True)\n",
       "              (value): Linear(in_features=768, out_features=768, bias=True)\n",
       "              (dropout): Dropout(p=0.1, inplace=False)\n",
       "            )\n",
       "            (output): BertSelfOutput(\n",
       "              (dense): Linear(in_features=768, out_features=768, bias=True)\n",
       "              (LayerNorm): LayerNorm((768,), eps=1e-12, elementwise_affine=True)\n",
       "              (dropout): Dropout(p=0.1, inplace=False)\n",
       "            )\n",
       "          )\n",
       "          (intermediate): BertIntermediate(\n",
       "            (dense): Linear(in_features=768, out_features=3072, bias=True)\n",
       "          )\n",
       "          (output): BertOutput(\n",
       "            (dense): Linear(in_features=3072, out_features=768, bias=True)\n",
       "            (LayerNorm): LayerNorm((768,), eps=1e-12, elementwise_affine=True)\n",
       "            (dropout): Dropout(p=0.1, inplace=False)\n",
       "          )\n",
       "        )\n",
       "        (2): BertLayer(\n",
       "          (attention): BertAttention(\n",
       "            (self): BertSelfAttention(\n",
       "              (query): Linear(in_features=768, out_features=768, bias=True)\n",
       "              (key): Linear(in_features=768, out_features=768, bias=True)\n",
       "              (value): Linear(in_features=768, out_features=768, bias=True)\n",
       "              (dropout): Dropout(p=0.1, inplace=False)\n",
       "            )\n",
       "            (output): BertSelfOutput(\n",
       "              (dense): Linear(in_features=768, out_features=768, bias=True)\n",
       "              (LayerNorm): LayerNorm((768,), eps=1e-12, elementwise_affine=True)\n",
       "              (dropout): Dropout(p=0.1, inplace=False)\n",
       "            )\n",
       "          )\n",
       "          (intermediate): BertIntermediate(\n",
       "            (dense): Linear(in_features=768, out_features=3072, bias=True)\n",
       "          )\n",
       "          (output): BertOutput(\n",
       "            (dense): Linear(in_features=3072, out_features=768, bias=True)\n",
       "            (LayerNorm): LayerNorm((768,), eps=1e-12, elementwise_affine=True)\n",
       "            (dropout): Dropout(p=0.1, inplace=False)\n",
       "          )\n",
       "        )\n",
       "        (3): BertLayer(\n",
       "          (attention): BertAttention(\n",
       "            (self): BertSelfAttention(\n",
       "              (query): Linear(in_features=768, out_features=768, bias=True)\n",
       "              (key): Linear(in_features=768, out_features=768, bias=True)\n",
       "              (value): Linear(in_features=768, out_features=768, bias=True)\n",
       "              (dropout): Dropout(p=0.1, inplace=False)\n",
       "            )\n",
       "            (output): BertSelfOutput(\n",
       "              (dense): Linear(in_features=768, out_features=768, bias=True)\n",
       "              (LayerNorm): LayerNorm((768,), eps=1e-12, elementwise_affine=True)\n",
       "              (dropout): Dropout(p=0.1, inplace=False)\n",
       "            )\n",
       "          )\n",
       "          (intermediate): BertIntermediate(\n",
       "            (dense): Linear(in_features=768, out_features=3072, bias=True)\n",
       "          )\n",
       "          (output): BertOutput(\n",
       "            (dense): Linear(in_features=3072, out_features=768, bias=True)\n",
       "            (LayerNorm): LayerNorm((768,), eps=1e-12, elementwise_affine=True)\n",
       "            (dropout): Dropout(p=0.1, inplace=False)\n",
       "          )\n",
       "        )\n",
       "        (4): BertLayer(\n",
       "          (attention): BertAttention(\n",
       "            (self): BertSelfAttention(\n",
       "              (query): Linear(in_features=768, out_features=768, bias=True)\n",
       "              (key): Linear(in_features=768, out_features=768, bias=True)\n",
       "              (value): Linear(in_features=768, out_features=768, bias=True)\n",
       "              (dropout): Dropout(p=0.1, inplace=False)\n",
       "            )\n",
       "            (output): BertSelfOutput(\n",
       "              (dense): Linear(in_features=768, out_features=768, bias=True)\n",
       "              (LayerNorm): LayerNorm((768,), eps=1e-12, elementwise_affine=True)\n",
       "              (dropout): Dropout(p=0.1, inplace=False)\n",
       "            )\n",
       "          )\n",
       "          (intermediate): BertIntermediate(\n",
       "            (dense): Linear(in_features=768, out_features=3072, bias=True)\n",
       "          )\n",
       "          (output): BertOutput(\n",
       "            (dense): Linear(in_features=3072, out_features=768, bias=True)\n",
       "            (LayerNorm): LayerNorm((768,), eps=1e-12, elementwise_affine=True)\n",
       "            (dropout): Dropout(p=0.1, inplace=False)\n",
       "          )\n",
       "        )\n",
       "        (5): BertLayer(\n",
       "          (attention): BertAttention(\n",
       "            (self): BertSelfAttention(\n",
       "              (query): Linear(in_features=768, out_features=768, bias=True)\n",
       "              (key): Linear(in_features=768, out_features=768, bias=True)\n",
       "              (value): Linear(in_features=768, out_features=768, bias=True)\n",
       "              (dropout): Dropout(p=0.1, inplace=False)\n",
       "            )\n",
       "            (output): BertSelfOutput(\n",
       "              (dense): Linear(in_features=768, out_features=768, bias=True)\n",
       "              (LayerNorm): LayerNorm((768,), eps=1e-12, elementwise_affine=True)\n",
       "              (dropout): Dropout(p=0.1, inplace=False)\n",
       "            )\n",
       "          )\n",
       "          (intermediate): BertIntermediate(\n",
       "            (dense): Linear(in_features=768, out_features=3072, bias=True)\n",
       "          )\n",
       "          (output): BertOutput(\n",
       "            (dense): Linear(in_features=3072, out_features=768, bias=True)\n",
       "            (LayerNorm): LayerNorm((768,), eps=1e-12, elementwise_affine=True)\n",
       "            (dropout): Dropout(p=0.1, inplace=False)\n",
       "          )\n",
       "        )\n",
       "        (6): BertLayer(\n",
       "          (attention): BertAttention(\n",
       "            (self): BertSelfAttention(\n",
       "              (query): Linear(in_features=768, out_features=768, bias=True)\n",
       "              (key): Linear(in_features=768, out_features=768, bias=True)\n",
       "              (value): Linear(in_features=768, out_features=768, bias=True)\n",
       "              (dropout): Dropout(p=0.1, inplace=False)\n",
       "            )\n",
       "            (output): BertSelfOutput(\n",
       "              (dense): Linear(in_features=768, out_features=768, bias=True)\n",
       "              (LayerNorm): LayerNorm((768,), eps=1e-12, elementwise_affine=True)\n",
       "              (dropout): Dropout(p=0.1, inplace=False)\n",
       "            )\n",
       "          )\n",
       "          (intermediate): BertIntermediate(\n",
       "            (dense): Linear(in_features=768, out_features=3072, bias=True)\n",
       "          )\n",
       "          (output): BertOutput(\n",
       "            (dense): Linear(in_features=3072, out_features=768, bias=True)\n",
       "            (LayerNorm): LayerNorm((768,), eps=1e-12, elementwise_affine=True)\n",
       "            (dropout): Dropout(p=0.1, inplace=False)\n",
       "          )\n",
       "        )\n",
       "        (7): BertLayer(\n",
       "          (attention): BertAttention(\n",
       "            (self): BertSelfAttention(\n",
       "              (query): Linear(in_features=768, out_features=768, bias=True)\n",
       "              (key): Linear(in_features=768, out_features=768, bias=True)\n",
       "              (value): Linear(in_features=768, out_features=768, bias=True)\n",
       "              (dropout): Dropout(p=0.1, inplace=False)\n",
       "            )\n",
       "            (output): BertSelfOutput(\n",
       "              (dense): Linear(in_features=768, out_features=768, bias=True)\n",
       "              (LayerNorm): LayerNorm((768,), eps=1e-12, elementwise_affine=True)\n",
       "              (dropout): Dropout(p=0.1, inplace=False)\n",
       "            )\n",
       "          )\n",
       "          (intermediate): BertIntermediate(\n",
       "            (dense): Linear(in_features=768, out_features=3072, bias=True)\n",
       "          )\n",
       "          (output): BertOutput(\n",
       "            (dense): Linear(in_features=3072, out_features=768, bias=True)\n",
       "            (LayerNorm): LayerNorm((768,), eps=1e-12, elementwise_affine=True)\n",
       "            (dropout): Dropout(p=0.1, inplace=False)\n",
       "          )\n",
       "        )\n",
       "        (8): BertLayer(\n",
       "          (attention): BertAttention(\n",
       "            (self): BertSelfAttention(\n",
       "              (query): Linear(in_features=768, out_features=768, bias=True)\n",
       "              (key): Linear(in_features=768, out_features=768, bias=True)\n",
       "              (value): Linear(in_features=768, out_features=768, bias=True)\n",
       "              (dropout): Dropout(p=0.1, inplace=False)\n",
       "            )\n",
       "            (output): BertSelfOutput(\n",
       "              (dense): Linear(in_features=768, out_features=768, bias=True)\n",
       "              (LayerNorm): LayerNorm((768,), eps=1e-12, elementwise_affine=True)\n",
       "              (dropout): Dropout(p=0.1, inplace=False)\n",
       "            )\n",
       "          )\n",
       "          (intermediate): BertIntermediate(\n",
       "            (dense): Linear(in_features=768, out_features=3072, bias=True)\n",
       "          )\n",
       "          (output): BertOutput(\n",
       "            (dense): Linear(in_features=3072, out_features=768, bias=True)\n",
       "            (LayerNorm): LayerNorm((768,), eps=1e-12, elementwise_affine=True)\n",
       "            (dropout): Dropout(p=0.1, inplace=False)\n",
       "          )\n",
       "        )\n",
       "        (9): BertLayer(\n",
       "          (attention): BertAttention(\n",
       "            (self): BertSelfAttention(\n",
       "              (query): Linear(in_features=768, out_features=768, bias=True)\n",
       "              (key): Linear(in_features=768, out_features=768, bias=True)\n",
       "              (value): Linear(in_features=768, out_features=768, bias=True)\n",
       "              (dropout): Dropout(p=0.1, inplace=False)\n",
       "            )\n",
       "            (output): BertSelfOutput(\n",
       "              (dense): Linear(in_features=768, out_features=768, bias=True)\n",
       "              (LayerNorm): LayerNorm((768,), eps=1e-12, elementwise_affine=True)\n",
       "              (dropout): Dropout(p=0.1, inplace=False)\n",
       "            )\n",
       "          )\n",
       "          (intermediate): BertIntermediate(\n",
       "            (dense): Linear(in_features=768, out_features=3072, bias=True)\n",
       "          )\n",
       "          (output): BertOutput(\n",
       "            (dense): Linear(in_features=3072, out_features=768, bias=True)\n",
       "            (LayerNorm): LayerNorm((768,), eps=1e-12, elementwise_affine=True)\n",
       "            (dropout): Dropout(p=0.1, inplace=False)\n",
       "          )\n",
       "        )\n",
       "        (10): BertLayer(\n",
       "          (attention): BertAttention(\n",
       "            (self): BertSelfAttention(\n",
       "              (query): Linear(in_features=768, out_features=768, bias=True)\n",
       "              (key): Linear(in_features=768, out_features=768, bias=True)\n",
       "              (value): Linear(in_features=768, out_features=768, bias=True)\n",
       "              (dropout): Dropout(p=0.1, inplace=False)\n",
       "            )\n",
       "            (output): BertSelfOutput(\n",
       "              (dense): Linear(in_features=768, out_features=768, bias=True)\n",
       "              (LayerNorm): LayerNorm((768,), eps=1e-12, elementwise_affine=True)\n",
       "              (dropout): Dropout(p=0.1, inplace=False)\n",
       "            )\n",
       "          )\n",
       "          (intermediate): BertIntermediate(\n",
       "            (dense): Linear(in_features=768, out_features=3072, bias=True)\n",
       "          )\n",
       "          (output): BertOutput(\n",
       "            (dense): Linear(in_features=3072, out_features=768, bias=True)\n",
       "            (LayerNorm): LayerNorm((768,), eps=1e-12, elementwise_affine=True)\n",
       "            (dropout): Dropout(p=0.1, inplace=False)\n",
       "          )\n",
       "        )\n",
       "        (11): BertLayer(\n",
       "          (attention): BertAttention(\n",
       "            (self): BertSelfAttention(\n",
       "              (query): Linear(in_features=768, out_features=768, bias=True)\n",
       "              (key): Linear(in_features=768, out_features=768, bias=True)\n",
       "              (value): Linear(in_features=768, out_features=768, bias=True)\n",
       "              (dropout): Dropout(p=0.1, inplace=False)\n",
       "            )\n",
       "            (output): BertSelfOutput(\n",
       "              (dense): Linear(in_features=768, out_features=768, bias=True)\n",
       "              (LayerNorm): LayerNorm((768,), eps=1e-12, elementwise_affine=True)\n",
       "              (dropout): Dropout(p=0.1, inplace=False)\n",
       "            )\n",
       "          )\n",
       "          (intermediate): BertIntermediate(\n",
       "            (dense): Linear(in_features=768, out_features=3072, bias=True)\n",
       "          )\n",
       "          (output): BertOutput(\n",
       "            (dense): Linear(in_features=3072, out_features=768, bias=True)\n",
       "            (LayerNorm): LayerNorm((768,), eps=1e-12, elementwise_affine=True)\n",
       "            (dropout): Dropout(p=0.1, inplace=False)\n",
       "          )\n",
       "        )\n",
       "      )\n",
       "    )\n",
       "    (pooler): BertPooler(\n",
       "      (dense): Linear(in_features=768, out_features=768, bias=True)\n",
       "      (activation): Tanh()\n",
       "    )\n",
       "  )\n",
       "  (dropout): Dropout(p=0.1, inplace=False)\n",
       "  (classifier): Linear(in_features=768, out_features=2, bias=True)\n",
       ")"
      ]
     },
     "execution_count": 11,
     "metadata": {},
     "output_type": "execute_result"
    }
   ],
   "source": [
    "# random seed\n",
    "random_seed=42\n",
    "np.random.seed(random_seed)\n",
    "torch.manual_seed(random_seed)\n",
    "\n",
    "device = torch.device('cuda' if torch.cuda.is_available() else 'cpu')\n",
    "\n",
    "model = BertForSequenceClassification.from_pretrained('bert-base-uncased')\n",
    "model.to(device)"
   ]
  },
  {
   "cell_type": "code",
   "execution_count": 12,
   "metadata": {
    "execution": {
     "iopub.execute_input": "2021-10-24T21:08:14.848735Z",
     "iopub.status.busy": "2021-10-24T21:08:14.848317Z",
     "iopub.status.idle": "2021-10-24T21:08:14.858048Z",
     "shell.execute_reply": "2021-10-24T21:08:14.857342Z",
     "shell.execute_reply.started": "2021-10-24T21:08:14.848698Z"
    }
   },
   "outputs": [],
   "source": [
    "model.train()\n",
    "learning_rate = 5e-5\n",
    "optimizer = AdamW(model.parameters(), lr=learning_rate)"
   ]
  },
  {
   "cell_type": "code",
   "execution_count": 13,
   "metadata": {
    "execution": {
     "iopub.execute_input": "2021-10-24T21:08:15.790643Z",
     "iopub.status.busy": "2021-10-24T21:08:15.790143Z",
     "iopub.status.idle": "2021-10-24T21:08:15.795368Z",
     "shell.execute_reply": "2021-10-24T21:08:15.794439Z",
     "shell.execute_reply.started": "2021-10-24T21:08:15.790601Z"
    }
   },
   "outputs": [],
   "source": [
    "def compute_acc(predictions, target_labels):\n",
    "    return (np.array(predictions) == np.array(target_labels)).mean()"
   ]
  },
  {
   "cell_type": "code",
   "execution_count": 14,
   "metadata": {
    "execution": {
     "iopub.execute_input": "2021-10-24T21:08:16.450622Z",
     "iopub.status.busy": "2021-10-24T21:08:16.449987Z",
     "iopub.status.idle": "2021-10-24T21:08:23.640238Z",
     "shell.execute_reply": "2021-10-24T21:08:23.639413Z",
     "shell.execute_reply.started": "2021-10-24T21:08:16.450578Z"
    }
   },
   "outputs": [
    {
     "name": "stderr",
     "output_type": "stream",
     "text": [
      "Epoch 0:  20%|█▉        | 1383/6926 [01:10<04:36, 20.03batch/s, loss=0.0727] \n",
      "Eval:   0%|          | 0/63 [00:00<?, ?it/s]\u001b[A\n",
      "Eval:   5%|▍         | 3/63 [00:00<00:02, 29.94it/s]\u001b[A\n",
      "Eval:  16%|█▌        | 10/63 [00:00<00:01, 36.08it/s]\u001b[A\n",
      "Eval:  27%|██▋       | 17/63 [00:00<00:01, 42.19it/s]\u001b[A\n",
      "Eval:  40%|███▉      | 25/63 [00:00<00:00, 47.92it/s]\u001b[A\n",
      "Eval:  52%|█████▏    | 33/63 [00:00<00:00, 52.99it/s]\u001b[A\n",
      "Eval:  63%|██████▎   | 40/63 [00:00<00:00, 55.91it/s]\u001b[A\n",
      "Eval:  75%|███████▍  | 47/63 [00:00<00:00, 58.26it/s]\u001b[A\n",
      "Eval:  86%|████████▌ | 54/63 [00:00<00:00, 60.26it/s]\u001b[A\n",
      "Eval:  97%|█████████▋| 61/63 [00:00<00:00, 61.96it/s]\u001b[A\n",
      "Epoch 0:  20%|██        | 1388/6926 [01:11<11:15,  8.19batch/s, loss=0.0238]"
     ]
    },
    {
     "name": "stdout",
     "output_type": "stream",
     "text": [
      "Acc for model which have lower valid loss:  0.965\n"
     ]
    },
    {
     "name": "stderr",
     "output_type": "stream",
     "text": [
      "Epoch 0:  40%|███▉      | 2770/6926 [02:20<03:32, 19.56batch/s, loss=0.00685]\n",
      "Eval:   0%|          | 0/63 [00:00<?, ?it/s]\u001b[A\n",
      "Eval:   6%|▋         | 4/63 [00:00<00:01, 35.51it/s]\u001b[A\n",
      "Eval:  17%|█▋        | 11/63 [00:00<00:01, 41.58it/s]\u001b[A\n",
      "Eval:  29%|██▊       | 18/63 [00:00<00:00, 47.21it/s]\u001b[A\n",
      "Eval:  40%|███▉      | 25/63 [00:00<00:00, 52.14it/s]\u001b[A\n",
      "Eval:  52%|█████▏    | 33/63 [00:00<00:00, 56.37it/s]\u001b[A\n",
      "Eval:  63%|██████▎   | 40/63 [00:00<00:00, 58.40it/s]\u001b[A\n",
      "Eval:  75%|███████▍  | 47/63 [00:00<00:00, 60.17it/s]\u001b[A\n",
      "Eval:  86%|████████▌ | 54/63 [00:00<00:00, 61.61it/s]\u001b[A\n",
      "Eval:  97%|█████████▋| 61/63 [00:00<00:00, 62.87it/s]\u001b[A\n",
      "Epoch 0:  40%|████      | 2775/6926 [02:21<10:56,  6.32batch/s, loss=0.105]  "
     ]
    },
    {
     "name": "stdout",
     "output_type": "stream",
     "text": [
      "Acc for model which have lower valid loss:  0.97575\n"
     ]
    },
    {
     "name": "stderr",
     "output_type": "stream",
     "text": [
      "Epoch 0:  60%|█████▉    | 4154/6926 [03:30<02:23, 19.33batch/s, loss=0.154]  \n",
      "Eval:   0%|          | 0/63 [00:00<?, ?it/s]\u001b[A\n",
      "Eval:   6%|▋         | 4/63 [00:00<00:01, 36.28it/s]\u001b[A\n",
      "Eval:  17%|█▋        | 11/63 [00:00<00:01, 42.31it/s]\u001b[A\n",
      "Eval:  30%|███       | 19/63 [00:00<00:00, 48.13it/s]\u001b[A\n",
      "Eval:  41%|████▏     | 26/63 [00:00<00:00, 53.01it/s]\u001b[A\n",
      "Eval:  52%|█████▏    | 33/63 [00:00<00:00, 57.12it/s]\u001b[A\n",
      "Eval:  63%|██████▎   | 40/63 [00:00<00:00, 59.06it/s]\u001b[A\n",
      "Eval:  75%|███████▍  | 47/63 [00:00<00:00, 60.63it/s]\u001b[A\n",
      "Eval:  86%|████████▌ | 54/63 [00:00<00:00, 61.91it/s]\u001b[A\n",
      "Eval:  97%|█████████▋| 61/63 [00:00<00:00, 63.07it/s]\u001b[A\n",
      "Epoch 0:  60%|██████    | 4158/6926 [03:31<07:19,  6.30batch/s, loss=0.00819]"
     ]
    },
    {
     "name": "stdout",
     "output_type": "stream",
     "text": [
      "Acc for model which have lower valid loss:  0.97875\n"
     ]
    },
    {
     "name": "stderr",
     "output_type": "stream",
     "text": [
      "Epoch 0:  80%|███████▉  | 5540/6926 [04:40<01:08, 20.16batch/s, loss=0.0185] \n",
      "Eval:   0%|          | 0/63 [00:00<?, ?it/s]\u001b[A\n",
      "Eval:   6%|▋         | 4/63 [00:00<00:01, 35.25it/s]\u001b[A\n",
      "Eval:  17%|█▋        | 11/63 [00:00<00:01, 41.31it/s]\u001b[A\n",
      "Eval:  30%|███       | 19/63 [00:00<00:00, 47.16it/s]\u001b[A\n",
      "Eval:  41%|████▏     | 26/63 [00:00<00:00, 52.07it/s]\u001b[A\n",
      "Eval:  52%|█████▏    | 33/63 [00:00<00:00, 56.27it/s]\u001b[A\n",
      "Eval:  63%|██████▎   | 40/63 [00:00<00:00, 58.35it/s]\u001b[A\n",
      "Eval:  75%|███████▍  | 47/63 [00:00<00:00, 60.07it/s]\u001b[A\n",
      "Eval:  86%|████████▌ | 54/63 [00:00<00:00, 61.49it/s]\u001b[A\n",
      "Eval:  97%|█████████▋| 61/63 [00:00<00:00, 62.80it/s]\u001b[A\n",
      "Epoch 0:  80%|████████  | 5543/6926 [04:41<03:33,  6.49batch/s, loss=0.0186]"
     ]
    },
    {
     "name": "stdout",
     "output_type": "stream",
     "text": [
      "Acc for model which have lower valid loss:  0.9745\n"
     ]
    },
    {
     "name": "stderr",
     "output_type": "stream",
     "text": [
      "Epoch 0: 100%|█████████▉| 6924/6926 [05:50<00:00, 19.56batch/s, loss=0.0144] \n",
      "Eval:   0%|          | 0/63 [00:00<?, ?it/s]\u001b[A\n",
      "Eval:   6%|▋         | 4/63 [00:00<00:01, 35.23it/s]\u001b[A\n",
      "Eval:  17%|█▋        | 11/63 [00:00<00:01, 41.30it/s]\u001b[A\n",
      "Eval:  30%|███       | 19/63 [00:00<00:00, 47.19it/s]\u001b[A\n",
      "Eval:  41%|████▏     | 26/63 [00:00<00:00, 52.06it/s]\u001b[A\n",
      "Eval:  52%|█████▏    | 33/63 [00:00<00:00, 56.31it/s]\u001b[A\n",
      "Eval:  63%|██████▎   | 40/63 [00:00<00:00, 58.36it/s]\u001b[A\n",
      "Eval:  75%|███████▍  | 47/63 [00:00<00:00, 59.90it/s]\u001b[A\n",
      "Eval:  86%|████████▌ | 54/63 [00:00<00:00, 61.00it/s]\u001b[A\n",
      "Eval:  97%|█████████▋| 61/63 [00:00<00:00, 62.28it/s]\u001b[A\n",
      "Epoch 0: 100%|██████████| 6926/6926 [05:51<00:00, 19.68batch/s, loss=0.0144]"
     ]
    },
    {
     "name": "stdout",
     "output_type": "stream",
     "text": [
      "Acc for model which have lower valid loss:  0.97725\n"
     ]
    },
    {
     "name": "stderr",
     "output_type": "stream",
     "text": [
      "\n"
     ]
    }
   ],
   "source": [
    "train_epoch = 1\n",
    "lowest_valid_loss = 9999.\n",
    "for epoch in range(train_epoch):\n",
    "    with tqdm(train_loader, unit=\"batch\") as tepoch:\n",
    "        for iteration, (input_ids, attention_mask, token_type_ids, position_ids, labels) in enumerate(tepoch):\n",
    "            tepoch.set_description(f\"Epoch {epoch}\")\n",
    "            input_ids = input_ids.to(device)\n",
    "            attention_mask = attention_mask.to(device)\n",
    "            token_type_ids = token_type_ids.to(device)\n",
    "            position_ids = position_ids.to(device)\n",
    "            labels = labels.to(device, dtype=torch.long)\n",
    "\n",
    "            optimizer.zero_grad()\n",
    "\n",
    "            output = model(input_ids=input_ids,\n",
    "                           attention_mask=attention_mask,\n",
    "                           token_type_ids=token_type_ids,\n",
    "                           position_ids=position_ids,\n",
    "                           labels=labels)\n",
    "\n",
    "            loss = output.loss\n",
    "            loss.backward()\n",
    "\n",
    "            optimizer.step()\n",
    "\n",
    "            tepoch.set_postfix(loss=loss.item())\n",
    "            if iteration != 0 and iteration % int(len(train_loader) / 5) == 0:\n",
    "                # Evaluate the model five times per epoch\n",
    "                with torch.no_grad():\n",
    "                    model.eval()\n",
    "                    valid_losses = []\n",
    "                    predictions = []\n",
    "                    target_labels = []\n",
    "                    for input_ids, attention_mask, token_type_ids, position_ids, labels in tqdm(dev_loader,\n",
    "                                                                                                desc='Eval',\n",
    "                                                                                                position=1,\n",
    "                                                                                                leave=None):\n",
    "                        input_ids = input_ids.to(device)\n",
    "                        attention_mask = attention_mask.to(device)\n",
    "                        token_type_ids = token_type_ids.to(device)\n",
    "                        position_ids = position_ids.to(device)\n",
    "                        labels = labels.to(device, dtype=torch.long)\n",
    "\n",
    "                        output = model(input_ids=input_ids,\n",
    "                                       attention_mask=attention_mask,\n",
    "                                       token_type_ids=token_type_ids,\n",
    "                                       position_ids=position_ids,\n",
    "                                       labels=labels)\n",
    "\n",
    "                        logits = output.logits\n",
    "                        loss = output.loss\n",
    "                        valid_losses.append(loss.item())\n",
    "\n",
    "                        batch_predictions = [0 if example[0] > example[1] else 1 for example in logits]\n",
    "                        batch_labels = [int(example) for example in labels]\n",
    "\n",
    "                        predictions += batch_predictions\n",
    "                        target_labels += batch_labels\n",
    "\n",
    "                acc = compute_acc(predictions, target_labels)\n",
    "                valid_loss = sum(valid_losses) / len(valid_losses)\n",
    "                if lowest_valid_loss > valid_loss:\n",
    "                    print('Acc for model which have lower valid loss: ', acc)"
   ]
  },
  {
   "cell_type": "code",
   "execution_count": 15,
   "metadata": {
    "execution": {
     "iopub.execute_input": "2021-10-24T21:19:40.213214Z",
     "iopub.status.busy": "2021-10-24T21:19:40.212962Z",
     "iopub.status.idle": "2021-10-24T21:19:40.227601Z",
     "shell.execute_reply": "2021-10-24T21:19:40.22692Z",
     "shell.execute_reply.started": "2021-10-24T21:19:40.213184Z"
    }
   },
   "outputs": [],
   "source": [
    "import pandas as pd\n",
    "test_df = pd.read_csv('./project1_data/test_no_label.csv')"
   ]
  },
  {
   "cell_type": "code",
   "execution_count": 16,
   "metadata": {
    "execution": {
     "iopub.execute_input": "2021-10-24T21:19:40.479077Z",
     "iopub.status.busy": "2021-10-24T21:19:40.478846Z",
     "iopub.status.idle": "2021-10-24T21:19:40.483838Z",
     "shell.execute_reply": "2021-10-24T21:19:40.482766Z",
     "shell.execute_reply.started": "2021-10-24T21:19:40.479051Z"
    }
   },
   "outputs": [],
   "source": [
    "test_dataset = test_df['Id']"
   ]
  },
  {
   "cell_type": "code",
   "execution_count": 17,
   "metadata": {
    "execution": {
     "iopub.execute_input": "2021-10-24T21:19:40.983582Z",
     "iopub.status.busy": "2021-10-24T21:19:40.983364Z",
     "iopub.status.idle": "2021-10-24T21:19:40.988374Z",
     "shell.execute_reply": "2021-10-24T21:19:40.987681Z",
     "shell.execute_reply.started": "2021-10-24T21:19:40.983557Z"
    }
   },
   "outputs": [],
   "source": [
    "def make_id_file_test(tokenizer, test_dataset):\n",
    "    data_strings = []\n",
    "    id_file_data = [tokenizer.encode(sent.lower()) for sent in test_dataset]\n",
    "    for item in id_file_data:\n",
    "        data_strings.append(' '.join([str(k) for k in item]))\n",
    "    return data_strings"
   ]
  },
  {
   "cell_type": "code",
   "execution_count": 18,
   "metadata": {
    "execution": {
     "iopub.execute_input": "2021-10-24T21:19:41.246804Z",
     "iopub.status.busy": "2021-10-24T21:19:41.246527Z",
     "iopub.status.idle": "2021-10-24T21:19:41.624055Z",
     "shell.execute_reply": "2021-10-24T21:19:41.62344Z",
     "shell.execute_reply.started": "2021-10-24T21:19:41.246776Z"
    }
   },
   "outputs": [],
   "source": [
    "test = make_id_file_test(tokenizer, test_dataset)"
   ]
  },
  {
   "cell_type": "code",
   "execution_count": 19,
   "metadata": {
    "execution": {
     "iopub.execute_input": "2021-10-24T21:12:14.60112Z",
     "iopub.status.busy": "2021-10-24T21:12:14.600749Z",
     "iopub.status.idle": "2021-10-24T21:12:14.607618Z",
     "shell.execute_reply": "2021-10-24T21:12:14.606871Z",
     "shell.execute_reply.started": "2021-10-24T21:12:14.601084Z"
    }
   },
   "outputs": [
    {
     "data": {
      "text/plain": [
       "['101 2009 1005 1055 1037 2878 2047 3325 1998 2047 26389 2169 2051 2017 2175 1012 102',\n",
       " '101 2061 15640 2013 2019 2214 5440 1012 102',\n",
       " '101 2009 2003 1996 2087 14469 7273 1999 1996 3028 1012 102',\n",
       " '101 2079 2025 3696 1037 10084 2007 2122 2111 1012 102',\n",
       " '101 1045 2001 6091 1998 2016 2081 2033 2514 2061 6625 1998 6160 1012 102',\n",
       " '101 1996 2069 2518 2057 2363 2008 2001 2980 2001 1996 4157 1012 102',\n",
       " '101 2053 1010 2025 1996 3924 2012 2004 2226 1010 1996 3924 1999 3502 2152 1012 102',\n",
       " '101 2027 3288 2009 2041 2392 2005 2017 1998 2024 2200 14044 1012 102',\n",
       " '101 4606 1996 12043 2106 1050 1005 1056 2130 2113 2129 2000 2147 1996 3274 1012 102',\n",
       " '101 2027 2031 2019 6581 4989 1997 25025 2015 2000 5454 2013 1012 102']"
      ]
     },
     "execution_count": 19,
     "metadata": {},
     "output_type": "execute_result"
    }
   ],
   "source": [
    "test[:10]"
   ]
  },
  {
   "cell_type": "code",
   "execution_count": 20,
   "metadata": {
    "execution": {
     "iopub.execute_input": "2021-10-24T21:14:39.166445Z",
     "iopub.status.busy": "2021-10-24T21:14:39.166192Z",
     "iopub.status.idle": "2021-10-24T21:14:39.174714Z",
     "shell.execute_reply": "2021-10-24T21:14:39.173561Z",
     "shell.execute_reply.started": "2021-10-24T21:14:39.166415Z"
    }
   },
   "outputs": [],
   "source": [
    "class SentimentTestDataset(object):\n",
    "    def __init__(self, tokenizer, test):\n",
    "        self.tokenizer = tokenizer\n",
    "        self.data = []\n",
    "\n",
    "        for sent in test:\n",
    "            self.data += [self._cast_to_int(sent.strip().split())]\n",
    "        \n",
    "    def _cast_to_int(self, sample):\n",
    "        return [int(word_id) for word_id in sample]\n",
    "\n",
    "    def __len__(self):\n",
    "        return len(self.data)\n",
    "\n",
    "    def __getitem__(self, index):\n",
    "        sample = self.data[index]\n",
    "        return np.array(sample)"
   ]
  },
  {
   "cell_type": "code",
   "execution_count": 21,
   "metadata": {
    "execution": {
     "iopub.execute_input": "2021-10-24T21:14:39.652006Z",
     "iopub.status.busy": "2021-10-24T21:14:39.651535Z",
     "iopub.status.idle": "2021-10-24T21:14:39.659923Z",
     "shell.execute_reply": "2021-10-24T21:14:39.658938Z",
     "shell.execute_reply.started": "2021-10-24T21:14:39.651965Z"
    }
   },
   "outputs": [],
   "source": [
    "test_dataset = SentimentTestDataset(tokenizer, test)"
   ]
  },
  {
   "cell_type": "code",
   "execution_count": 22,
   "metadata": {
    "execution": {
     "iopub.execute_input": "2021-10-24T21:15:26.018936Z",
     "iopub.status.busy": "2021-10-24T21:15:26.018653Z",
     "iopub.status.idle": "2021-10-24T21:15:26.026633Z",
     "shell.execute_reply": "2021-10-24T21:15:26.02577Z",
     "shell.execute_reply.started": "2021-10-24T21:15:26.018904Z"
    }
   },
   "outputs": [],
   "source": [
    "def collate_fn_style_test(samples):\n",
    "    input_ids = samples\n",
    "    max_len = max(len(input_id) for input_id in input_ids)\n",
    "    sorted_indices = np.argsort([len(input_id) for input_id in input_ids])[::-1]\n",
    "\n",
    "    input_ids = pad_sequence([torch.tensor(input_ids[index]) for index in sorted_indices],\n",
    "                             batch_first=True)\n",
    "    attention_mask = torch.tensor(\n",
    "        [[1] * len(input_ids[index]) + [0] * (max_len - len(input_ids[index])) for index in\n",
    "         sorted_indices])\n",
    "    token_type_ids = torch.tensor([[0] * len(input_ids[index]) for index in sorted_indices])\n",
    "    position_ids = torch.tensor([list(range(len(input_ids[index]))) for index in sorted_indices])\n",
    "\n",
    "    return input_ids, attention_mask, token_type_ids, position_ids"
   ]
  },
  {
   "cell_type": "code",
   "execution_count": 36,
   "metadata": {
    "execution": {
     "iopub.execute_input": "2021-10-24T21:18:09.655625Z",
     "iopub.status.busy": "2021-10-24T21:18:09.654771Z",
     "iopub.status.idle": "2021-10-24T21:18:09.661488Z",
     "shell.execute_reply": "2021-10-24T21:18:09.660777Z",
     "shell.execute_reply.started": "2021-10-24T21:18:09.655571Z"
    }
   },
   "outputs": [],
   "source": [
    "test_batch_size = 40\n",
    "test_loader = torch.utils.data.DataLoader(test_dataset, batch_size=test_batch_size,\n",
    "                                          shuffle=False, collate_fn=collate_fn_style_test)"
   ]
  },
  {
   "cell_type": "code",
   "execution_count": 35,
   "metadata": {
    "execution": {
     "iopub.execute_input": "2021-10-24T21:18:09.963863Z",
     "iopub.status.busy": "2021-10-24T21:18:09.963666Z",
     "iopub.status.idle": "2021-10-24T21:18:10.941541Z",
     "shell.execute_reply": "2021-10-24T21:18:10.940662Z",
     "shell.execute_reply.started": "2021-10-24T21:18:09.963839Z"
    },
    "scrolled": true
   },
   "outputs": [
    {
     "name": "stderr",
     "output_type": "stream",
     "text": [
      "\n",
      "Test:   0%|          | 0/100 [00:00<?, ?it/s]\u001b[A\n",
      "                                             \u001b[A"
     ]
    },
    {
     "ename": "ValueError",
     "evalue": "Expected input batch_size (10) to match target batch_size (32).",
     "output_type": "error",
     "traceback": [
      "\u001b[0;31m---------------------------------------------------------------------------\u001b[0m",
      "\u001b[0;31mValueError\u001b[0m                                Traceback (most recent call last)",
      "\u001b[0;32m<ipython-input-35-e5372decba42>\u001b[0m in \u001b[0;36m<module>\u001b[0;34m\u001b[0m\n\u001b[1;32m     11\u001b[0m         \u001b[0mposition_ids\u001b[0m \u001b[0;34m=\u001b[0m \u001b[0mposition_ids\u001b[0m\u001b[0;34m.\u001b[0m\u001b[0mto\u001b[0m\u001b[0;34m(\u001b[0m\u001b[0mdevice\u001b[0m\u001b[0;34m)\u001b[0m\u001b[0;34m\u001b[0m\u001b[0;34m\u001b[0m\u001b[0m\n\u001b[1;32m     12\u001b[0m \u001b[0;34m\u001b[0m\u001b[0m\n\u001b[0;32m---> 13\u001b[0;31m         output = model(input_ids=input_ids,\n\u001b[0m\u001b[1;32m     14\u001b[0m                        \u001b[0mattention_mask\u001b[0m\u001b[0;34m=\u001b[0m\u001b[0mattention_mask\u001b[0m\u001b[0;34m,\u001b[0m\u001b[0;34m\u001b[0m\u001b[0;34m\u001b[0m\u001b[0m\n\u001b[1;32m     15\u001b[0m                        \u001b[0mtoken_type_ids\u001b[0m\u001b[0;34m=\u001b[0m\u001b[0mtoken_type_ids\u001b[0m\u001b[0;34m,\u001b[0m\u001b[0;34m\u001b[0m\u001b[0;34m\u001b[0m\u001b[0m\n",
      "\u001b[0;32m/opt/conda/lib/python3.8/site-packages/torch/nn/modules/module.py\u001b[0m in \u001b[0;36m_call_impl\u001b[0;34m(self, *input, **kwargs)\u001b[0m\n\u001b[1;32m    887\u001b[0m             \u001b[0mresult\u001b[0m \u001b[0;34m=\u001b[0m \u001b[0mself\u001b[0m\u001b[0;34m.\u001b[0m\u001b[0m_slow_forward\u001b[0m\u001b[0;34m(\u001b[0m\u001b[0;34m*\u001b[0m\u001b[0minput\u001b[0m\u001b[0;34m,\u001b[0m \u001b[0;34m**\u001b[0m\u001b[0mkwargs\u001b[0m\u001b[0;34m)\u001b[0m\u001b[0;34m\u001b[0m\u001b[0;34m\u001b[0m\u001b[0m\n\u001b[1;32m    888\u001b[0m         \u001b[0;32melse\u001b[0m\u001b[0;34m:\u001b[0m\u001b[0;34m\u001b[0m\u001b[0;34m\u001b[0m\u001b[0m\n\u001b[0;32m--> 889\u001b[0;31m             \u001b[0mresult\u001b[0m \u001b[0;34m=\u001b[0m \u001b[0mself\u001b[0m\u001b[0;34m.\u001b[0m\u001b[0mforward\u001b[0m\u001b[0;34m(\u001b[0m\u001b[0;34m*\u001b[0m\u001b[0minput\u001b[0m\u001b[0;34m,\u001b[0m \u001b[0;34m**\u001b[0m\u001b[0mkwargs\u001b[0m\u001b[0;34m)\u001b[0m\u001b[0;34m\u001b[0m\u001b[0;34m\u001b[0m\u001b[0m\n\u001b[0m\u001b[1;32m    890\u001b[0m         for hook in itertools.chain(\n\u001b[1;32m    891\u001b[0m                 \u001b[0m_global_forward_hooks\u001b[0m\u001b[0;34m.\u001b[0m\u001b[0mvalues\u001b[0m\u001b[0;34m(\u001b[0m\u001b[0;34m)\u001b[0m\u001b[0;34m,\u001b[0m\u001b[0;34m\u001b[0m\u001b[0;34m\u001b[0m\u001b[0m\n",
      "\u001b[0;32m/opt/conda/lib/python3.8/site-packages/transformers/models/bert/modeling_bert.py\u001b[0m in \u001b[0;36mforward\u001b[0;34m(self, input_ids, attention_mask, token_type_ids, position_ids, head_mask, inputs_embeds, labels, output_attentions, output_hidden_states, return_dict)\u001b[0m\n\u001b[1;32m   1562\u001b[0m             \u001b[0;32melif\u001b[0m \u001b[0mself\u001b[0m\u001b[0;34m.\u001b[0m\u001b[0mconfig\u001b[0m\u001b[0;34m.\u001b[0m\u001b[0mproblem_type\u001b[0m \u001b[0;34m==\u001b[0m \u001b[0;34m\"single_label_classification\"\u001b[0m\u001b[0;34m:\u001b[0m\u001b[0;34m\u001b[0m\u001b[0;34m\u001b[0m\u001b[0m\n\u001b[1;32m   1563\u001b[0m                 \u001b[0mloss_fct\u001b[0m \u001b[0;34m=\u001b[0m \u001b[0mCrossEntropyLoss\u001b[0m\u001b[0;34m(\u001b[0m\u001b[0;34m)\u001b[0m\u001b[0;34m\u001b[0m\u001b[0;34m\u001b[0m\u001b[0m\n\u001b[0;32m-> 1564\u001b[0;31m                 \u001b[0mloss\u001b[0m \u001b[0;34m=\u001b[0m \u001b[0mloss_fct\u001b[0m\u001b[0;34m(\u001b[0m\u001b[0mlogits\u001b[0m\u001b[0;34m.\u001b[0m\u001b[0mview\u001b[0m\u001b[0;34m(\u001b[0m\u001b[0;34m-\u001b[0m\u001b[0;36m1\u001b[0m\u001b[0;34m,\u001b[0m \u001b[0mself\u001b[0m\u001b[0;34m.\u001b[0m\u001b[0mnum_labels\u001b[0m\u001b[0;34m)\u001b[0m\u001b[0;34m,\u001b[0m \u001b[0mlabels\u001b[0m\u001b[0;34m.\u001b[0m\u001b[0mview\u001b[0m\u001b[0;34m(\u001b[0m\u001b[0;34m-\u001b[0m\u001b[0;36m1\u001b[0m\u001b[0;34m)\u001b[0m\u001b[0;34m)\u001b[0m\u001b[0;34m\u001b[0m\u001b[0;34m\u001b[0m\u001b[0m\n\u001b[0m\u001b[1;32m   1565\u001b[0m             \u001b[0;32melif\u001b[0m \u001b[0mself\u001b[0m\u001b[0;34m.\u001b[0m\u001b[0mconfig\u001b[0m\u001b[0;34m.\u001b[0m\u001b[0mproblem_type\u001b[0m \u001b[0;34m==\u001b[0m \u001b[0;34m\"multi_label_classification\"\u001b[0m\u001b[0;34m:\u001b[0m\u001b[0;34m\u001b[0m\u001b[0;34m\u001b[0m\u001b[0m\n\u001b[1;32m   1566\u001b[0m                 \u001b[0mloss_fct\u001b[0m \u001b[0;34m=\u001b[0m \u001b[0mBCEWithLogitsLoss\u001b[0m\u001b[0;34m(\u001b[0m\u001b[0;34m)\u001b[0m\u001b[0;34m\u001b[0m\u001b[0;34m\u001b[0m\u001b[0m\n",
      "\u001b[0;32m/opt/conda/lib/python3.8/site-packages/torch/nn/modules/module.py\u001b[0m in \u001b[0;36m_call_impl\u001b[0;34m(self, *input, **kwargs)\u001b[0m\n\u001b[1;32m    887\u001b[0m             \u001b[0mresult\u001b[0m \u001b[0;34m=\u001b[0m \u001b[0mself\u001b[0m\u001b[0;34m.\u001b[0m\u001b[0m_slow_forward\u001b[0m\u001b[0;34m(\u001b[0m\u001b[0;34m*\u001b[0m\u001b[0minput\u001b[0m\u001b[0;34m,\u001b[0m \u001b[0;34m**\u001b[0m\u001b[0mkwargs\u001b[0m\u001b[0;34m)\u001b[0m\u001b[0;34m\u001b[0m\u001b[0;34m\u001b[0m\u001b[0m\n\u001b[1;32m    888\u001b[0m         \u001b[0;32melse\u001b[0m\u001b[0;34m:\u001b[0m\u001b[0;34m\u001b[0m\u001b[0;34m\u001b[0m\u001b[0m\n\u001b[0;32m--> 889\u001b[0;31m             \u001b[0mresult\u001b[0m \u001b[0;34m=\u001b[0m \u001b[0mself\u001b[0m\u001b[0;34m.\u001b[0m\u001b[0mforward\u001b[0m\u001b[0;34m(\u001b[0m\u001b[0;34m*\u001b[0m\u001b[0minput\u001b[0m\u001b[0;34m,\u001b[0m \u001b[0;34m**\u001b[0m\u001b[0mkwargs\u001b[0m\u001b[0;34m)\u001b[0m\u001b[0;34m\u001b[0m\u001b[0;34m\u001b[0m\u001b[0m\n\u001b[0m\u001b[1;32m    890\u001b[0m         for hook in itertools.chain(\n\u001b[1;32m    891\u001b[0m                 \u001b[0m_global_forward_hooks\u001b[0m\u001b[0;34m.\u001b[0m\u001b[0mvalues\u001b[0m\u001b[0;34m(\u001b[0m\u001b[0;34m)\u001b[0m\u001b[0;34m,\u001b[0m\u001b[0;34m\u001b[0m\u001b[0;34m\u001b[0m\u001b[0m\n",
      "\u001b[0;32m/opt/conda/lib/python3.8/site-packages/torch/nn/modules/loss.py\u001b[0m in \u001b[0;36mforward\u001b[0;34m(self, input, target)\u001b[0m\n\u001b[1;32m   1045\u001b[0m     \u001b[0;32mdef\u001b[0m \u001b[0mforward\u001b[0m\u001b[0;34m(\u001b[0m\u001b[0mself\u001b[0m\u001b[0;34m,\u001b[0m \u001b[0minput\u001b[0m\u001b[0;34m:\u001b[0m \u001b[0mTensor\u001b[0m\u001b[0;34m,\u001b[0m \u001b[0mtarget\u001b[0m\u001b[0;34m:\u001b[0m \u001b[0mTensor\u001b[0m\u001b[0;34m)\u001b[0m \u001b[0;34m->\u001b[0m \u001b[0mTensor\u001b[0m\u001b[0;34m:\u001b[0m\u001b[0;34m\u001b[0m\u001b[0;34m\u001b[0m\u001b[0m\n\u001b[1;32m   1046\u001b[0m         \u001b[0;32massert\u001b[0m \u001b[0mself\u001b[0m\u001b[0;34m.\u001b[0m\u001b[0mweight\u001b[0m \u001b[0;32mis\u001b[0m \u001b[0;32mNone\u001b[0m \u001b[0;32mor\u001b[0m \u001b[0misinstance\u001b[0m\u001b[0;34m(\u001b[0m\u001b[0mself\u001b[0m\u001b[0;34m.\u001b[0m\u001b[0mweight\u001b[0m\u001b[0;34m,\u001b[0m \u001b[0mTensor\u001b[0m\u001b[0;34m)\u001b[0m\u001b[0;34m\u001b[0m\u001b[0;34m\u001b[0m\u001b[0m\n\u001b[0;32m-> 1047\u001b[0;31m         return F.cross_entropy(input, target, weight=self.weight,\n\u001b[0m\u001b[1;32m   1048\u001b[0m                                ignore_index=self.ignore_index, reduction=self.reduction)\n\u001b[1;32m   1049\u001b[0m \u001b[0;34m\u001b[0m\u001b[0m\n",
      "\u001b[0;32m/opt/conda/lib/python3.8/site-packages/torch/nn/functional.py\u001b[0m in \u001b[0;36mcross_entropy\u001b[0;34m(input, target, weight, size_average, ignore_index, reduce, reduction)\u001b[0m\n\u001b[1;32m   2691\u001b[0m     \u001b[0;32mif\u001b[0m \u001b[0msize_average\u001b[0m \u001b[0;32mis\u001b[0m \u001b[0;32mnot\u001b[0m \u001b[0;32mNone\u001b[0m \u001b[0;32mor\u001b[0m \u001b[0mreduce\u001b[0m \u001b[0;32mis\u001b[0m \u001b[0;32mnot\u001b[0m \u001b[0;32mNone\u001b[0m\u001b[0;34m:\u001b[0m\u001b[0;34m\u001b[0m\u001b[0;34m\u001b[0m\u001b[0m\n\u001b[1;32m   2692\u001b[0m         \u001b[0mreduction\u001b[0m \u001b[0;34m=\u001b[0m \u001b[0m_Reduction\u001b[0m\u001b[0;34m.\u001b[0m\u001b[0mlegacy_get_string\u001b[0m\u001b[0;34m(\u001b[0m\u001b[0msize_average\u001b[0m\u001b[0;34m,\u001b[0m \u001b[0mreduce\u001b[0m\u001b[0;34m)\u001b[0m\u001b[0;34m\u001b[0m\u001b[0;34m\u001b[0m\u001b[0m\n\u001b[0;32m-> 2693\u001b[0;31m     \u001b[0;32mreturn\u001b[0m \u001b[0mnll_loss\u001b[0m\u001b[0;34m(\u001b[0m\u001b[0mlog_softmax\u001b[0m\u001b[0;34m(\u001b[0m\u001b[0minput\u001b[0m\u001b[0;34m,\u001b[0m \u001b[0;36m1\u001b[0m\u001b[0;34m)\u001b[0m\u001b[0;34m,\u001b[0m \u001b[0mtarget\u001b[0m\u001b[0;34m,\u001b[0m \u001b[0mweight\u001b[0m\u001b[0;34m,\u001b[0m \u001b[0;32mNone\u001b[0m\u001b[0;34m,\u001b[0m \u001b[0mignore_index\u001b[0m\u001b[0;34m,\u001b[0m \u001b[0;32mNone\u001b[0m\u001b[0;34m,\u001b[0m \u001b[0mreduction\u001b[0m\u001b[0;34m)\u001b[0m\u001b[0;34m\u001b[0m\u001b[0;34m\u001b[0m\u001b[0m\n\u001b[0m\u001b[1;32m   2694\u001b[0m \u001b[0;34m\u001b[0m\u001b[0m\n\u001b[1;32m   2695\u001b[0m \u001b[0;34m\u001b[0m\u001b[0m\n",
      "\u001b[0;32m/opt/conda/lib/python3.8/site-packages/torch/nn/functional.py\u001b[0m in \u001b[0;36mnll_loss\u001b[0;34m(input, target, weight, size_average, ignore_index, reduce, reduction)\u001b[0m\n\u001b[1;32m   2382\u001b[0m \u001b[0;34m\u001b[0m\u001b[0m\n\u001b[1;32m   2383\u001b[0m     \u001b[0;32mif\u001b[0m \u001b[0minput\u001b[0m\u001b[0;34m.\u001b[0m\u001b[0msize\u001b[0m\u001b[0;34m(\u001b[0m\u001b[0;36m0\u001b[0m\u001b[0;34m)\u001b[0m \u001b[0;34m!=\u001b[0m \u001b[0mtarget\u001b[0m\u001b[0;34m.\u001b[0m\u001b[0msize\u001b[0m\u001b[0;34m(\u001b[0m\u001b[0;36m0\u001b[0m\u001b[0;34m)\u001b[0m\u001b[0;34m:\u001b[0m\u001b[0;34m\u001b[0m\u001b[0;34m\u001b[0m\u001b[0m\n\u001b[0;32m-> 2384\u001b[0;31m         raise ValueError(\n\u001b[0m\u001b[1;32m   2385\u001b[0m             \u001b[0;34m\"Expected input batch_size ({}) to match target batch_size ({}).\"\u001b[0m\u001b[0;34m.\u001b[0m\u001b[0mformat\u001b[0m\u001b[0;34m(\u001b[0m\u001b[0minput\u001b[0m\u001b[0;34m.\u001b[0m\u001b[0msize\u001b[0m\u001b[0;34m(\u001b[0m\u001b[0;36m0\u001b[0m\u001b[0;34m)\u001b[0m\u001b[0;34m,\u001b[0m \u001b[0mtarget\u001b[0m\u001b[0;34m.\u001b[0m\u001b[0msize\u001b[0m\u001b[0;34m(\u001b[0m\u001b[0;36m0\u001b[0m\u001b[0;34m)\u001b[0m\u001b[0;34m)\u001b[0m\u001b[0;34m\u001b[0m\u001b[0;34m\u001b[0m\u001b[0m\n\u001b[1;32m   2386\u001b[0m         )\n",
      "\u001b[0;31mValueError\u001b[0m: Expected input batch_size (10) to match target batch_size (32)."
     ]
    }
   ],
   "source": [
    "with torch.no_grad():\n",
    "    model.eval()\n",
    "    predictions = []\n",
    "    for input_ids, attention_mask, token_type_ids, position_ids in tqdm(test_loader,\n",
    "                                                                        desc='Test',\n",
    "                                                                        position=1,\n",
    "                                                                        leave=None):\n",
    "        input_ids = input_ids.to(device)\n",
    "        attention_mask = attention_mask.to(device)\n",
    "        token_type_ids = token_type_ids.to(device)\n",
    "        position_ids = position_ids.to(device)\n",
    "\n",
    "        output = model(input_ids=input_ids,\n",
    "                       attention_mask=attention_mask,\n",
    "                       token_type_ids=token_type_ids,\n",
    "                       position_ids=position_ids\n",
    "                    )\n",
    "\n",
    "       "
   ]
  },
  {
   "cell_type": "code",
   "execution_count": null,
   "metadata": {
    "execution": {
     "iopub.execute_input": "2021-10-24T21:19:53.123809Z",
     "iopub.status.busy": "2021-10-24T21:19:53.123553Z",
     "iopub.status.idle": "2021-10-24T21:19:53.130545Z",
     "shell.execute_reply": "2021-10-24T21:19:53.129473Z",
     "shell.execute_reply.started": "2021-10-24T21:19:53.12378Z"
    }
   },
   "outputs": [],
   "source": [
    "test_df['Category'] = predictions"
   ]
  },
  {
   "cell_type": "code",
   "execution_count": null,
   "metadata": {
    "execution": {
     "iopub.execute_input": "2021-10-24T21:22:51.35152Z",
     "iopub.status.busy": "2021-10-24T21:22:51.351227Z",
     "iopub.status.idle": "2021-10-24T21:22:51.429885Z",
     "shell.execute_reply": "2021-10-24T21:22:51.428776Z",
     "shell.execute_reply.started": "2021-10-24T21:22:51.351442Z"
    }
   },
   "outputs": [],
   "source": [
    "test_df.to_csv('submission.csv', index=False)"
   ]
  },
  {
   "cell_type": "code",
   "execution_count": null,
   "metadata": {},
   "outputs": [],
   "source": []
  }
 ],
 "metadata": {
  "kernelspec": {
   "display_name": "Python 3",
   "language": "python",
   "name": "python3"
  },
  "language_info": {
   "codemirror_mode": {
    "name": "ipython",
    "version": 3
   },
   "file_extension": ".py",
   "mimetype": "text/x-python",
   "name": "python",
   "nbconvert_exporter": "python",
   "pygments_lexer": "ipython3",
   "version": "3.8.8"
  }
 },
 "nbformat": 4,
 "nbformat_minor": 4
}
